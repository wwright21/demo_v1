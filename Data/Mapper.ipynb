{
 "cells": [
  {
   "cell_type": "code",
   "execution_count": 15,
   "metadata": {},
   "outputs": [],
   "source": [
    "# dependencies\n",
    "import folium\n",
    "\n",
    "# Create new map centered on Huntsville, AL\n",
    "map_doc = folium.Map(\n",
    "    location=[34.58, -86.73],\n",
    "    zoom_start=10,\n",
    "    tiles=None\n",
    ")\n",
    "\n",
    "# Use custom basemap\n",
    "folium.raster_layers.TileLayer(\n",
    "    tiles='https://{s}.basemaps.cartocdn.com/rastertiles/voyager/{z}/{x}/{y}{r}.png',\n",
    "    attr='something',\n",
    "    control=False,\n",
    "    name='basemap'\n",
    ").add_to(map_doc)\n",
    "\n",
    "# create county outline\n",
    "county_layer = folium.GeoJson(\n",
    "    'Geography/northernAL.geojson',\n",
    "    name='Counties',\n",
    "    control=False,\n",
    "    style_function=lambda feature: {\n",
    "        'fillColor': 'transparent',\n",
    "        'color': 'black',\n",
    "        'weight': 2\n",
    "    }\n",
    ")\n",
    "\n",
    "# add county layer\n",
    "map_doc.add_child(county_layer)\n",
    "\n",
    "# make sure county layer stays in front\n",
    "map_doc.keep_in_front(county_layer)\n",
    "\n",
    "# add LayerControl to map\n",
    "folium.LayerControl().add_to(map_doc)\n",
    "\n",
    "# export to HTML\n",
    "map_doc.save(\"../index.html\")"
   ]
  }
 ],
 "metadata": {
  "kernelspec": {
   "display_name": "research",
   "language": "python",
   "name": "research"
  },
  "language_info": {
   "codemirror_mode": {
    "name": "ipython",
    "version": 3
   },
   "file_extension": ".py",
   "mimetype": "text/x-python",
   "name": "python",
   "nbconvert_exporter": "python",
   "pygments_lexer": "ipython3",
   "version": "3.11.6"
  }
 },
 "nbformat": 4,
 "nbformat_minor": 2
}
